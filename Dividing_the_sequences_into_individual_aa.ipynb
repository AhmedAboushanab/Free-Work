{
  "nbformat": 4,
  "nbformat_minor": 0,
  "metadata": {
    "colab": {
      "provenance": [],
      "authorship_tag": "ABX9TyMBjYq7rBzaiDyofNQYGt7z",
      "include_colab_link": true
    },
    "kernelspec": {
      "name": "python3",
      "display_name": "Python 3"
    },
    "language_info": {
      "name": "python"
    }
  },
  "cells": [
    {
      "cell_type": "markdown",
      "metadata": {
        "id": "view-in-github",
        "colab_type": "text"
      },
      "source": [
        "<a href=\"https://colab.research.google.com/github/AhmedAboushanab/Free-Work/blob/main/Dividing_the_sequences_into_individual_aa.ipynb\" target=\"_parent\"><img src=\"https://colab.research.google.com/assets/colab-badge.svg\" alt=\"Open In Colab\"/></a>"
      ]
    },
    {
      "cell_type": "code",
      "execution_count": 6,
      "metadata": {
        "colab": {
          "base_uri": "https://localhost:8080/"
        },
        "id": "q7FOucB1PdCh",
        "outputId": "a03bd2ac-25c7-447a-f26d-54ca75040000"
      },
      "outputs": [
        {
          "output_type": "stream",
          "name": "stdout",
          "text": [
            "['DKTHTCPPCPAPELLGGPSVFLFPPKPKDTLMISRTPEVTCVVVDVSHEDPEVKFNWYVDGVEVHNAKTKPREEQYNSTYRVVSVLTVLHQDWLNGKEYKCKVSNKALPAPIEKTISKAKGQPREPQVYTLPPSRDELTKNQVSLTCLVKGFYPSDIAVEWESNGQPENNYKTTPPVLDSDGSFFLYSKLTVDKSRWQQGNVFSCSVMHEALHNHYTQKSLSLSPGK']\n"
          ]
        }
      ],
      "source": [
        "list1 = 'DKTHTCPPCPAPELLGGPSVFLFPPKPKDTLMISRTPEVTCVVVDVSHEDPEVKFNWYVDGVEVHNAKTKPREEQYNSTYRVVSVLTVLHQDWLNGKEYKCKVSNKALPAPIEKTISKAKGQPREPQVYTLPPSRDELTKNQVSLTCLVKGFYPSDIAVEWESNGQPENNYKTTPPVLDSDGSFFLYSKLTVDKSRWQQGNVFSCSVMHEALHNHYTQKSLSLSPGK'\n",
        "print( list.split())"
      ]
    },
    {
      "cell_type": "code",
      "source": [
        "list1[1]"
      ],
      "metadata": {
        "colab": {
          "base_uri": "https://localhost:8080/",
          "height": 35
        },
        "id": "vfMsLXttU9l1",
        "outputId": "7e168932-fab3-4939-e3f2-5f1597c7a5d1"
      },
      "execution_count": 7,
      "outputs": [
        {
          "output_type": "execute_result",
          "data": {
            "text/plain": [
              "'K'"
            ],
            "application/vnd.google.colaboratory.intrinsic+json": {
              "type": "string"
            }
          },
          "metadata": {},
          "execution_count": 7
        }
      ]
    },
    {
      "cell_type": "code",
      "source": [
        "len(list1)"
      ],
      "metadata": {
        "colab": {
          "base_uri": "https://localhost:8080/"
        },
        "id": "8zyM66pyW6ad",
        "outputId": "9d98a723-acf5-457e-e1eb-53f2f2420727"
      },
      "execution_count": 16,
      "outputs": [
        {
          "output_type": "execute_result",
          "data": {
            "text/plain": [
              "227"
            ]
          },
          "metadata": {},
          "execution_count": 16
        }
      ]
    },
    {
      "cell_type": "code",
      "source": [
        "list2 =[]"
      ],
      "metadata": {
        "id": "pQ0wARPDVhAm"
      },
      "execution_count": 13,
      "outputs": []
    },
    {
      "cell_type": "code",
      "source": [
        "column = []\n",
        "Counter = 0\n",
        "aa = ['A', 'R','N', 'D', 'C', 'Q', 'E', 'G', 'H', 'I', 'L', 'K', 'M', 'F', 'P', 'S', 'T', 'W', 'Y', 'V']\n",
        "for j in range(227):\n",
        "  list2.append(list1[j])\n"
      ],
      "metadata": {
        "id": "vS4tUrXFQpqQ"
      },
      "execution_count": 17,
      "outputs": []
    },
    {
      "cell_type": "code",
      "source": [
        "print(list2)"
      ],
      "metadata": {
        "colab": {
          "base_uri": "https://localhost:8080/"
        },
        "id": "Z0PJawe2QdMI",
        "outputId": "081c5d58-10c7-4ba5-c1d9-6b4c681ab481"
      },
      "execution_count": 18,
      "outputs": [
        {
          "output_type": "stream",
          "name": "stdout",
          "text": [
            "['D', 'K', 'T', 'H', 'T', 'C', 'P', 'P', 'C', 'P', 'A', 'P', 'E', 'L', 'L', 'G', 'G', 'P', 'S', 'V', 'F', 'L', 'F', 'P', 'P', 'K', 'P', 'K', 'D', 'T', 'L', 'M', 'I', 'S', 'R', 'T', 'P', 'E', 'V', 'T', 'C', 'V', 'V', 'V', 'D', 'V', 'S', 'H', 'E', 'D', 'P', 'E', 'V', 'K', 'F', 'N', 'W', 'Y', 'V', 'D', 'G', 'V', 'E', 'V', 'H', 'N', 'A', 'K', 'T', 'K', 'P', 'R', 'E', 'E', 'Q', 'Y', 'N', 'S', 'T', 'Y', 'R', 'V', 'V', 'S', 'V', 'L', 'T', 'V', 'L', 'H', 'Q', 'D', 'W', 'L', 'N', 'G', 'K', 'E', 'Y', 'K', 'C', 'K', 'V', 'S', 'N', 'K', 'A', 'L', 'P', 'A', 'P', 'I', 'E', 'K', 'T', 'I', 'S', 'K', 'A', 'K', 'G', 'Q', 'P', 'R', 'E', 'P', 'Q', 'V', 'Y', 'T', 'L', 'P', 'P', 'S', 'R', 'D', 'E', 'L', 'T', 'K', 'N', 'Q', 'V', 'S', 'L', 'T', 'C', 'L', 'V', 'K', 'G', 'F', 'Y', 'P', 'S', 'D', 'I', 'A', 'V', 'E', 'W', 'E', 'S', 'N', 'G', 'Q', 'P', 'E', 'N', 'N', 'Y', 'K', 'T', 'T', 'P', 'P', 'V', 'L', 'D', 'S', 'D', 'G', 'S', 'F', 'F', 'L', 'Y', 'S', 'K', 'L', 'T', 'V', 'D', 'K', 'S', 'R', 'W', 'Q', 'Q', 'G', 'N', 'V', 'F', 'S', 'C', 'S', 'V', 'M', 'H', 'E', 'A', 'L', 'H', 'N', 'H', 'Y', 'T', 'Q', 'K', 'S', 'L', 'S', 'L', 'S', 'P', 'G', 'K', 'D', 'K', 'T', 'H', 'T', 'C', 'P', 'P', 'C', 'P', 'A', 'P', 'E', 'L', 'L', 'G', 'G', 'P', 'S', 'V', 'F', 'L', 'F', 'P', 'P', 'K', 'P', 'K', 'D', 'T', 'L', 'M', 'I', 'S', 'R', 'T', 'P', 'E', 'V', 'T', 'C', 'V', 'V', 'V', 'D', 'V', 'S', 'H', 'E', 'D', 'P', 'E', 'V', 'K', 'F', 'N', 'W', 'Y', 'V', 'D', 'G', 'V', 'E', 'V', 'H', 'N', 'A', 'K', 'T', 'K', 'P', 'R', 'E', 'E', 'Q', 'Y', 'N', 'S', 'T', 'Y', 'R', 'V', 'V', 'S', 'V', 'L', 'T', 'V', 'L', 'H', 'Q', 'D', 'W', 'L', 'N', 'G', 'K', 'E', 'Y', 'K', 'C', 'K', 'V', 'S', 'N', 'K', 'A', 'L', 'P', 'A', 'P', 'I', 'E', 'K', 'T', 'I', 'S', 'K', 'A', 'K', 'G', 'Q', 'P', 'R', 'E', 'P', 'Q', 'V', 'Y', 'T', 'L', 'P', 'P', 'S', 'R', 'D', 'E', 'L', 'T', 'K', 'N', 'Q', 'V', 'S', 'L', 'T', 'C', 'L', 'V', 'K', 'G', 'F', 'Y', 'P', 'S', 'D', 'I', 'A', 'V', 'E', 'W', 'E', 'S', 'N', 'G', 'Q', 'P', 'E', 'N', 'N', 'Y', 'K', 'T', 'T', 'P', 'P', 'V', 'L', 'D', 'S', 'D', 'G', 'S', 'F', 'F', 'L', 'Y', 'S', 'K', 'L', 'T', 'V', 'D', 'K', 'S', 'R', 'W', 'Q', 'Q', 'G', 'N', 'V', 'F', 'S', 'C', 'S', 'V', 'M', 'H', 'E', 'A', 'L', 'H', 'N', 'H', 'Y', 'T', 'Q', 'K', 'S', 'L', 'S', 'L', 'S', 'P', 'G', 'K', 'D', 'K', 'T', 'H', 'T', 'C', 'P', 'P', 'C', 'P', 'A', 'P', 'E', 'L', 'L', 'G', 'G', 'P', 'S', 'V', 'F', 'L', 'F', 'P', 'P', 'K', 'P', 'K', 'D', 'T', 'L', 'M', 'I', 'S', 'R', 'T', 'P', 'E', 'V', 'T', 'C', 'V', 'V', 'V', 'D', 'V', 'S', 'H', 'E', 'D', 'P', 'E', 'V', 'K', 'F', 'N', 'W', 'Y', 'V', 'D', 'G', 'V', 'E', 'V', 'H', 'N', 'A', 'K', 'T', 'K', 'P', 'R', 'E', 'E', 'Q', 'Y', 'N', 'S', 'T', 'Y', 'R', 'V', 'V', 'S', 'V', 'L', 'T', 'V', 'L', 'H', 'Q', 'D', 'W', 'L', 'N', 'G', 'K', 'E', 'Y', 'K', 'C', 'K', 'V', 'S', 'N', 'K', 'A', 'L', 'P', 'A', 'P', 'I', 'E', 'K', 'T', 'I', 'S', 'K', 'A', 'K', 'G', 'Q', 'P', 'R', 'E', 'P', 'Q', 'V', 'Y', 'T', 'L', 'P', 'P', 'S', 'R', 'D', 'E', 'L', 'T', 'K', 'N', 'Q', 'V', 'S', 'L', 'T', 'C', 'L', 'V', 'K', 'G', 'F', 'Y', 'P', 'S', 'D', 'I', 'A', 'V', 'E', 'W', 'E', 'S', 'N', 'G', 'Q', 'P', 'E', 'N', 'N', 'Y', 'K', 'T', 'T', 'P', 'P', 'V', 'L', 'D', 'S', 'D', 'G', 'S', 'F', 'F', 'L', 'Y', 'S', 'K', 'L', 'T', 'V', 'D', 'K', 'S', 'R', 'W', 'Q', 'Q', 'G', 'N', 'V', 'F', 'S', 'C', 'S', 'V', 'M', 'H', 'E', 'A', 'L', 'H', 'N', 'H', 'Y', 'T', 'Q', 'K', 'S', 'L', 'S', 'L', 'S', 'P', 'G', 'K']\n"
          ]
        }
      ]
    },
    {
      "cell_type": "code",
      "source": [
        "import numpy as np\n",
        "np.savetxt(\"Seq.csv\",\n",
        "        list2,\n",
        "        delimiter =\", \",\n",
        "        fmt ='% s')"
      ],
      "metadata": {
        "id": "tyVNKWkxXucP"
      },
      "execution_count": 19,
      "outputs": []
    }
  ]
}