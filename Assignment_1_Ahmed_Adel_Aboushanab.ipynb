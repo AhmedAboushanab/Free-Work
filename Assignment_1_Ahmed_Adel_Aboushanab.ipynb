{
  "nbformat": 4,
  "nbformat_minor": 0,
  "metadata": {
    "colab": {
      "provenance": [],
      "authorship_tag": "ABX9TyMjHCM3t9eD1sn0bHTDw2ck",
      "include_colab_link": true
    },
    "kernelspec": {
      "name": "python3",
      "display_name": "Python 3"
    },
    "language_info": {
      "name": "python"
    }
  },
  "cells": [
    {
      "cell_type": "markdown",
      "metadata": {
        "id": "view-in-github",
        "colab_type": "text"
      },
      "source": [
        "<a href=\"https://colab.research.google.com/github/AhmedAboushanab/Free-Work/blob/main/Assignment_1_Ahmed_Adel_Aboushanab.ipynb\" target=\"_parent\"><img src=\"https://colab.research.google.com/assets/colab-badge.svg\" alt=\"Open In Colab\"/></a>"
      ]
    },
    {
      "cell_type": "markdown",
      "source": [
        "#Ahmed Adel Aboushanab_800180308\n",
        "**Hypotheses**\n",
        "\n",
        "Null hypothesis: all chromosomes carry an equal number of variants\n",
        "\n",
        "Alternate Hypothesis: all chromosomes do not carry an equal number of variants"
      ],
      "metadata": {
        "id": "lBp6hAd29Tkr"
      }
    },
    {
      "cell_type": "code",
      "source": [
        "import pandas as pd\n",
        "import seaborn as sns\n",
        "person2 = pd.read_table('https://github.com/ahmedmoustafa/platinum-genomes/blob/main/tsv/NA12878.tsv.gz?raw=true', compression='gzip')\n",
        "person2.head()"
      ],
      "metadata": {
        "colab": {
          "base_uri": "https://localhost:8080/",
          "height": 206
        },
        "id": "65VbKo-F9t9x",
        "outputId": "90a68a16-936e-4c2b-de4e-61f5df421be0"
      },
      "execution_count": 1,
      "outputs": [
        {
          "output_type": "execute_result",
          "data": {
            "text/plain": [
              "    chr    pos                      id ref alt\n",
              "0  chr1  14677             rs201327123   G   A\n",
              "1  chr1  15922             rs375964566   A   G\n",
              "2  chr1  15956             rs112448831   G   A\n",
              "3  chr1  16014  rs113442401;rs75082847   C   T\n",
              "4  chr1  16298   rs62636498;rs77798508   C   T"
            ],
            "text/html": [
              "\n",
              "  <div id=\"df-19c329ea-c46e-4f18-b262-23968513b92e\" class=\"colab-df-container\">\n",
              "    <div>\n",
              "<style scoped>\n",
              "    .dataframe tbody tr th:only-of-type {\n",
              "        vertical-align: middle;\n",
              "    }\n",
              "\n",
              "    .dataframe tbody tr th {\n",
              "        vertical-align: top;\n",
              "    }\n",
              "\n",
              "    .dataframe thead th {\n",
              "        text-align: right;\n",
              "    }\n",
              "</style>\n",
              "<table border=\"1\" class=\"dataframe\">\n",
              "  <thead>\n",
              "    <tr style=\"text-align: right;\">\n",
              "      <th></th>\n",
              "      <th>chr</th>\n",
              "      <th>pos</th>\n",
              "      <th>id</th>\n",
              "      <th>ref</th>\n",
              "      <th>alt</th>\n",
              "    </tr>\n",
              "  </thead>\n",
              "  <tbody>\n",
              "    <tr>\n",
              "      <th>0</th>\n",
              "      <td>chr1</td>\n",
              "      <td>14677</td>\n",
              "      <td>rs201327123</td>\n",
              "      <td>G</td>\n",
              "      <td>A</td>\n",
              "    </tr>\n",
              "    <tr>\n",
              "      <th>1</th>\n",
              "      <td>chr1</td>\n",
              "      <td>15922</td>\n",
              "      <td>rs375964566</td>\n",
              "      <td>A</td>\n",
              "      <td>G</td>\n",
              "    </tr>\n",
              "    <tr>\n",
              "      <th>2</th>\n",
              "      <td>chr1</td>\n",
              "      <td>15956</td>\n",
              "      <td>rs112448831</td>\n",
              "      <td>G</td>\n",
              "      <td>A</td>\n",
              "    </tr>\n",
              "    <tr>\n",
              "      <th>3</th>\n",
              "      <td>chr1</td>\n",
              "      <td>16014</td>\n",
              "      <td>rs113442401;rs75082847</td>\n",
              "      <td>C</td>\n",
              "      <td>T</td>\n",
              "    </tr>\n",
              "    <tr>\n",
              "      <th>4</th>\n",
              "      <td>chr1</td>\n",
              "      <td>16298</td>\n",
              "      <td>rs62636498;rs77798508</td>\n",
              "      <td>C</td>\n",
              "      <td>T</td>\n",
              "    </tr>\n",
              "  </tbody>\n",
              "</table>\n",
              "</div>\n",
              "    <div class=\"colab-df-buttons\">\n",
              "\n",
              "  <div class=\"colab-df-container\">\n",
              "    <button class=\"colab-df-convert\" onclick=\"convertToInteractive('df-19c329ea-c46e-4f18-b262-23968513b92e')\"\n",
              "            title=\"Convert this dataframe to an interactive table.\"\n",
              "            style=\"display:none;\">\n",
              "\n",
              "  <svg xmlns=\"http://www.w3.org/2000/svg\" height=\"24px\" viewBox=\"0 -960 960 960\">\n",
              "    <path d=\"M120-120v-720h720v720H120Zm60-500h600v-160H180v160Zm220 220h160v-160H400v160Zm0 220h160v-160H400v160ZM180-400h160v-160H180v160Zm440 0h160v-160H620v160ZM180-180h160v-160H180v160Zm440 0h160v-160H620v160Z\"/>\n",
              "  </svg>\n",
              "    </button>\n",
              "\n",
              "  <style>\n",
              "    .colab-df-container {\n",
              "      display:flex;\n",
              "      gap: 12px;\n",
              "    }\n",
              "\n",
              "    .colab-df-convert {\n",
              "      background-color: #E8F0FE;\n",
              "      border: none;\n",
              "      border-radius: 50%;\n",
              "      cursor: pointer;\n",
              "      display: none;\n",
              "      fill: #1967D2;\n",
              "      height: 32px;\n",
              "      padding: 0 0 0 0;\n",
              "      width: 32px;\n",
              "    }\n",
              "\n",
              "    .colab-df-convert:hover {\n",
              "      background-color: #E2EBFA;\n",
              "      box-shadow: 0px 1px 2px rgba(60, 64, 67, 0.3), 0px 1px 3px 1px rgba(60, 64, 67, 0.15);\n",
              "      fill: #174EA6;\n",
              "    }\n",
              "\n",
              "    .colab-df-buttons div {\n",
              "      margin-bottom: 4px;\n",
              "    }\n",
              "\n",
              "    [theme=dark] .colab-df-convert {\n",
              "      background-color: #3B4455;\n",
              "      fill: #D2E3FC;\n",
              "    }\n",
              "\n",
              "    [theme=dark] .colab-df-convert:hover {\n",
              "      background-color: #434B5C;\n",
              "      box-shadow: 0px 1px 3px 1px rgba(0, 0, 0, 0.15);\n",
              "      filter: drop-shadow(0px 1px 2px rgba(0, 0, 0, 0.3));\n",
              "      fill: #FFFFFF;\n",
              "    }\n",
              "  </style>\n",
              "\n",
              "    <script>\n",
              "      const buttonEl =\n",
              "        document.querySelector('#df-19c329ea-c46e-4f18-b262-23968513b92e button.colab-df-convert');\n",
              "      buttonEl.style.display =\n",
              "        google.colab.kernel.accessAllowed ? 'block' : 'none';\n",
              "\n",
              "      async function convertToInteractive(key) {\n",
              "        const element = document.querySelector('#df-19c329ea-c46e-4f18-b262-23968513b92e');\n",
              "        const dataTable =\n",
              "          await google.colab.kernel.invokeFunction('convertToInteractive',\n",
              "                                                    [key], {});\n",
              "        if (!dataTable) return;\n",
              "\n",
              "        const docLinkHtml = 'Like what you see? Visit the ' +\n",
              "          '<a target=\"_blank\" href=https://colab.research.google.com/notebooks/data_table.ipynb>data table notebook</a>'\n",
              "          + ' to learn more about interactive tables.';\n",
              "        element.innerHTML = '';\n",
              "        dataTable['output_type'] = 'display_data';\n",
              "        await google.colab.output.renderOutput(dataTable, element);\n",
              "        const docLink = document.createElement('div');\n",
              "        docLink.innerHTML = docLinkHtml;\n",
              "        element.appendChild(docLink);\n",
              "      }\n",
              "    </script>\n",
              "  </div>\n",
              "\n",
              "\n",
              "<div id=\"df-17afef22-7f68-4f21-8d1f-b3f9e15b1a3b\">\n",
              "  <button class=\"colab-df-quickchart\" onclick=\"quickchart('df-17afef22-7f68-4f21-8d1f-b3f9e15b1a3b')\"\n",
              "            title=\"Suggest charts.\"\n",
              "            style=\"display:none;\">\n",
              "\n",
              "<svg xmlns=\"http://www.w3.org/2000/svg\" height=\"24px\"viewBox=\"0 0 24 24\"\n",
              "     width=\"24px\">\n",
              "    <g>\n",
              "        <path d=\"M19 3H5c-1.1 0-2 .9-2 2v14c0 1.1.9 2 2 2h14c1.1 0 2-.9 2-2V5c0-1.1-.9-2-2-2zM9 17H7v-7h2v7zm4 0h-2V7h2v10zm4 0h-2v-4h2v4z\"/>\n",
              "    </g>\n",
              "</svg>\n",
              "  </button>\n",
              "\n",
              "<style>\n",
              "  .colab-df-quickchart {\n",
              "      --bg-color: #E8F0FE;\n",
              "      --fill-color: #1967D2;\n",
              "      --hover-bg-color: #E2EBFA;\n",
              "      --hover-fill-color: #174EA6;\n",
              "      --disabled-fill-color: #AAA;\n",
              "      --disabled-bg-color: #DDD;\n",
              "  }\n",
              "\n",
              "  [theme=dark] .colab-df-quickchart {\n",
              "      --bg-color: #3B4455;\n",
              "      --fill-color: #D2E3FC;\n",
              "      --hover-bg-color: #434B5C;\n",
              "      --hover-fill-color: #FFFFFF;\n",
              "      --disabled-bg-color: #3B4455;\n",
              "      --disabled-fill-color: #666;\n",
              "  }\n",
              "\n",
              "  .colab-df-quickchart {\n",
              "    background-color: var(--bg-color);\n",
              "    border: none;\n",
              "    border-radius: 50%;\n",
              "    cursor: pointer;\n",
              "    display: none;\n",
              "    fill: var(--fill-color);\n",
              "    height: 32px;\n",
              "    padding: 0;\n",
              "    width: 32px;\n",
              "  }\n",
              "\n",
              "  .colab-df-quickchart:hover {\n",
              "    background-color: var(--hover-bg-color);\n",
              "    box-shadow: 0 1px 2px rgba(60, 64, 67, 0.3), 0 1px 3px 1px rgba(60, 64, 67, 0.15);\n",
              "    fill: var(--button-hover-fill-color);\n",
              "  }\n",
              "\n",
              "  .colab-df-quickchart-complete:disabled,\n",
              "  .colab-df-quickchart-complete:disabled:hover {\n",
              "    background-color: var(--disabled-bg-color);\n",
              "    fill: var(--disabled-fill-color);\n",
              "    box-shadow: none;\n",
              "  }\n",
              "\n",
              "  .colab-df-spinner {\n",
              "    border: 2px solid var(--fill-color);\n",
              "    border-color: transparent;\n",
              "    border-bottom-color: var(--fill-color);\n",
              "    animation:\n",
              "      spin 1s steps(1) infinite;\n",
              "  }\n",
              "\n",
              "  @keyframes spin {\n",
              "    0% {\n",
              "      border-color: transparent;\n",
              "      border-bottom-color: var(--fill-color);\n",
              "      border-left-color: var(--fill-color);\n",
              "    }\n",
              "    20% {\n",
              "      border-color: transparent;\n",
              "      border-left-color: var(--fill-color);\n",
              "      border-top-color: var(--fill-color);\n",
              "    }\n",
              "    30% {\n",
              "      border-color: transparent;\n",
              "      border-left-color: var(--fill-color);\n",
              "      border-top-color: var(--fill-color);\n",
              "      border-right-color: var(--fill-color);\n",
              "    }\n",
              "    40% {\n",
              "      border-color: transparent;\n",
              "      border-right-color: var(--fill-color);\n",
              "      border-top-color: var(--fill-color);\n",
              "    }\n",
              "    60% {\n",
              "      border-color: transparent;\n",
              "      border-right-color: var(--fill-color);\n",
              "    }\n",
              "    80% {\n",
              "      border-color: transparent;\n",
              "      border-right-color: var(--fill-color);\n",
              "      border-bottom-color: var(--fill-color);\n",
              "    }\n",
              "    90% {\n",
              "      border-color: transparent;\n",
              "      border-bottom-color: var(--fill-color);\n",
              "    }\n",
              "  }\n",
              "</style>\n",
              "\n",
              "  <script>\n",
              "    async function quickchart(key) {\n",
              "      const quickchartButtonEl =\n",
              "        document.querySelector('#' + key + ' button');\n",
              "      quickchartButtonEl.disabled = true;  // To prevent multiple clicks.\n",
              "      quickchartButtonEl.classList.add('colab-df-spinner');\n",
              "      try {\n",
              "        const charts = await google.colab.kernel.invokeFunction(\n",
              "            'suggestCharts', [key], {});\n",
              "      } catch (error) {\n",
              "        console.error('Error during call to suggestCharts:', error);\n",
              "      }\n",
              "      quickchartButtonEl.classList.remove('colab-df-spinner');\n",
              "      quickchartButtonEl.classList.add('colab-df-quickchart-complete');\n",
              "    }\n",
              "    (() => {\n",
              "      let quickchartButtonEl =\n",
              "        document.querySelector('#df-17afef22-7f68-4f21-8d1f-b3f9e15b1a3b button');\n",
              "      quickchartButtonEl.style.display =\n",
              "        google.colab.kernel.accessAllowed ? 'block' : 'none';\n",
              "    })();\n",
              "  </script>\n",
              "</div>\n",
              "    </div>\n",
              "  </div>\n"
            ]
          },
          "metadata": {},
          "execution_count": 1
        }
      ]
    },
    {
      "cell_type": "code",
      "source": [
        "person2.shape"
      ],
      "metadata": {
        "colab": {
          "base_uri": "https://localhost:8080/"
        },
        "id": "Uch4srkX_CEr",
        "outputId": "672aff3c-5cdd-474a-e3a9-3f3629ec8e82"
      },
      "execution_count": 2,
      "outputs": [
        {
          "output_type": "execute_result",
          "data": {
            "text/plain": [
              "(4489434, 5)"
            ]
          },
          "metadata": {},
          "execution_count": 2
        }
      ]
    },
    {
      "cell_type": "code",
      "source": [
        "#Number of variations per chromosome/length of the chromosome\n",
        "chromosomes = person2.groupby('chr')\n",
        "list_1 = chromosomes.groups.keys()\n",
        "list_2 = person2.groupby('chr').size()\n",
        "#chromosomes.first()\n",
        "#chromosomes\n",
        "#print(chromosomes.keys())\n",
        "#print(person2.groupby('chr').group_keys)"
      ],
      "metadata": {
        "id": "2ZSo1wyGAxQN"
      },
      "execution_count": 124,
      "outputs": []
    },
    {
      "cell_type": "code",
      "source": [
        "Chromosomes_2 = person2.groupby('chr').size()\n",
        "len(Chromosomes_2)\n",
        "Chromosomes_2\n",
        "\n",
        "#XX[\"chr1\"]\n",
        "#Chromosomes_2['chr1']"
      ],
      "metadata": {
        "colab": {
          "base_uri": "https://localhost:8080/"
        },
        "id": "sMvhCxEDLauE",
        "outputId": "9715a023-54a1-4b26-b6d8-8a771fa32589"
      },
      "execution_count": 114,
      "outputs": [
        {
          "output_type": "execute_result",
          "data": {
            "text/plain": [
              "chr\n",
              "chr1     341660\n",
              "chr10    222282\n",
              "chr11    221447\n",
              "chr12    209175\n",
              "chr13    171720\n",
              "chr14    138570\n",
              "chr15    126904\n",
              "chr16    132160\n",
              "chr17    120051\n",
              "chr18    129078\n",
              "chr19    101268\n",
              "chr2     358140\n",
              "chr20     97451\n",
              "chr21     65730\n",
              "chr22     62361\n",
              "chr3     296244\n",
              "chr4     319510\n",
              "chr5     272746\n",
              "chr6     283652\n",
              "chr7     250035\n",
              "chr8     229848\n",
              "chr9     189660\n",
              "chrM         20\n",
              "chrX     149722\n",
              "dtype: int64"
            ]
          },
          "metadata": {},
          "execution_count": 114
        }
      ]
    },
    {
      "cell_type": "code",
      "source": [
        "Sizes = chromosomes.size()\n",
        "Sizes"
      ],
      "metadata": {
        "colab": {
          "base_uri": "https://localhost:8080/"
        },
        "id": "iPo1MnfeE-mS",
        "outputId": "09a3ae2f-c30d-44a7-9273-65c82d41a573"
      },
      "execution_count": 49,
      "outputs": [
        {
          "output_type": "execute_result",
          "data": {
            "text/plain": [
              "chr\n",
              "chr1     341660\n",
              "chr10    222282\n",
              "chr11    221447\n",
              "chr12    209175\n",
              "chr13    171720\n",
              "chr14    138570\n",
              "chr15    126904\n",
              "chr16    132160\n",
              "chr17    120051\n",
              "chr18    129078\n",
              "chr19    101268\n",
              "chr2     358140\n",
              "chr20     97451\n",
              "chr21     65730\n",
              "chr22     62361\n",
              "chr3     296244\n",
              "chr4     319510\n",
              "chr5     272746\n",
              "chr6     283652\n",
              "chr7     250035\n",
              "chr8     229848\n",
              "chr9     189660\n",
              "chrM         20\n",
              "chrX     149722\n",
              "dtype: int64"
            ]
          },
          "metadata": {},
          "execution_count": 49
        }
      ]
    },
    {
      "cell_type": "code",
      "source": [
        "chr_length = pd.read_table(\"https://raw.githubusercontent.com/ahmedmoustafa/platinum-genomes/main/chromosomes.tsv\")\n",
        "chr_length.head()"
      ],
      "metadata": {
        "colab": {
          "base_uri": "https://localhost:8080/",
          "height": 206
        },
        "id": "20ifOlZvDfvS",
        "outputId": "61210e15-68a8-4dda-bd48-40527ff677e2"
      },
      "execution_count": 13,
      "outputs": [
        {
          "output_type": "execute_result",
          "data": {
            "text/plain": [
              "    chr     length   genbank     refseq\n",
              "0  chr1  248956422  CM000663  NC_000001\n",
              "1  chr2  242193529  CM000664  NC_000002\n",
              "2  chr3  198295559  CM000665  NC_000003\n",
              "3  chr4  190214555  CM000666  NC_000004\n",
              "4  chr5  181538259  CM000667  NC_000005"
            ],
            "text/html": [
              "\n",
              "  <div id=\"df-ff50ac2a-c55c-44b8-8c06-28d3ba8f6be2\" class=\"colab-df-container\">\n",
              "    <div>\n",
              "<style scoped>\n",
              "    .dataframe tbody tr th:only-of-type {\n",
              "        vertical-align: middle;\n",
              "    }\n",
              "\n",
              "    .dataframe tbody tr th {\n",
              "        vertical-align: top;\n",
              "    }\n",
              "\n",
              "    .dataframe thead th {\n",
              "        text-align: right;\n",
              "    }\n",
              "</style>\n",
              "<table border=\"1\" class=\"dataframe\">\n",
              "  <thead>\n",
              "    <tr style=\"text-align: right;\">\n",
              "      <th></th>\n",
              "      <th>chr</th>\n",
              "      <th>length</th>\n",
              "      <th>genbank</th>\n",
              "      <th>refseq</th>\n",
              "    </tr>\n",
              "  </thead>\n",
              "  <tbody>\n",
              "    <tr>\n",
              "      <th>0</th>\n",
              "      <td>chr1</td>\n",
              "      <td>248956422</td>\n",
              "      <td>CM000663</td>\n",
              "      <td>NC_000001</td>\n",
              "    </tr>\n",
              "    <tr>\n",
              "      <th>1</th>\n",
              "      <td>chr2</td>\n",
              "      <td>242193529</td>\n",
              "      <td>CM000664</td>\n",
              "      <td>NC_000002</td>\n",
              "    </tr>\n",
              "    <tr>\n",
              "      <th>2</th>\n",
              "      <td>chr3</td>\n",
              "      <td>198295559</td>\n",
              "      <td>CM000665</td>\n",
              "      <td>NC_000003</td>\n",
              "    </tr>\n",
              "    <tr>\n",
              "      <th>3</th>\n",
              "      <td>chr4</td>\n",
              "      <td>190214555</td>\n",
              "      <td>CM000666</td>\n",
              "      <td>NC_000004</td>\n",
              "    </tr>\n",
              "    <tr>\n",
              "      <th>4</th>\n",
              "      <td>chr5</td>\n",
              "      <td>181538259</td>\n",
              "      <td>CM000667</td>\n",
              "      <td>NC_000005</td>\n",
              "    </tr>\n",
              "  </tbody>\n",
              "</table>\n",
              "</div>\n",
              "    <div class=\"colab-df-buttons\">\n",
              "\n",
              "  <div class=\"colab-df-container\">\n",
              "    <button class=\"colab-df-convert\" onclick=\"convertToInteractive('df-ff50ac2a-c55c-44b8-8c06-28d3ba8f6be2')\"\n",
              "            title=\"Convert this dataframe to an interactive table.\"\n",
              "            style=\"display:none;\">\n",
              "\n",
              "  <svg xmlns=\"http://www.w3.org/2000/svg\" height=\"24px\" viewBox=\"0 -960 960 960\">\n",
              "    <path d=\"M120-120v-720h720v720H120Zm60-500h600v-160H180v160Zm220 220h160v-160H400v160Zm0 220h160v-160H400v160ZM180-400h160v-160H180v160Zm440 0h160v-160H620v160ZM180-180h160v-160H180v160Zm440 0h160v-160H620v160Z\"/>\n",
              "  </svg>\n",
              "    </button>\n",
              "\n",
              "  <style>\n",
              "    .colab-df-container {\n",
              "      display:flex;\n",
              "      gap: 12px;\n",
              "    }\n",
              "\n",
              "    .colab-df-convert {\n",
              "      background-color: #E8F0FE;\n",
              "      border: none;\n",
              "      border-radius: 50%;\n",
              "      cursor: pointer;\n",
              "      display: none;\n",
              "      fill: #1967D2;\n",
              "      height: 32px;\n",
              "      padding: 0 0 0 0;\n",
              "      width: 32px;\n",
              "    }\n",
              "\n",
              "    .colab-df-convert:hover {\n",
              "      background-color: #E2EBFA;\n",
              "      box-shadow: 0px 1px 2px rgba(60, 64, 67, 0.3), 0px 1px 3px 1px rgba(60, 64, 67, 0.15);\n",
              "      fill: #174EA6;\n",
              "    }\n",
              "\n",
              "    .colab-df-buttons div {\n",
              "      margin-bottom: 4px;\n",
              "    }\n",
              "\n",
              "    [theme=dark] .colab-df-convert {\n",
              "      background-color: #3B4455;\n",
              "      fill: #D2E3FC;\n",
              "    }\n",
              "\n",
              "    [theme=dark] .colab-df-convert:hover {\n",
              "      background-color: #434B5C;\n",
              "      box-shadow: 0px 1px 3px 1px rgba(0, 0, 0, 0.15);\n",
              "      filter: drop-shadow(0px 1px 2px rgba(0, 0, 0, 0.3));\n",
              "      fill: #FFFFFF;\n",
              "    }\n",
              "  </style>\n",
              "\n",
              "    <script>\n",
              "      const buttonEl =\n",
              "        document.querySelector('#df-ff50ac2a-c55c-44b8-8c06-28d3ba8f6be2 button.colab-df-convert');\n",
              "      buttonEl.style.display =\n",
              "        google.colab.kernel.accessAllowed ? 'block' : 'none';\n",
              "\n",
              "      async function convertToInteractive(key) {\n",
              "        const element = document.querySelector('#df-ff50ac2a-c55c-44b8-8c06-28d3ba8f6be2');\n",
              "        const dataTable =\n",
              "          await google.colab.kernel.invokeFunction('convertToInteractive',\n",
              "                                                    [key], {});\n",
              "        if (!dataTable) return;\n",
              "\n",
              "        const docLinkHtml = 'Like what you see? Visit the ' +\n",
              "          '<a target=\"_blank\" href=https://colab.research.google.com/notebooks/data_table.ipynb>data table notebook</a>'\n",
              "          + ' to learn more about interactive tables.';\n",
              "        element.innerHTML = '';\n",
              "        dataTable['output_type'] = 'display_data';\n",
              "        await google.colab.output.renderOutput(dataTable, element);\n",
              "        const docLink = document.createElement('div');\n",
              "        docLink.innerHTML = docLinkHtml;\n",
              "        element.appendChild(docLink);\n",
              "      }\n",
              "    </script>\n",
              "  </div>\n",
              "\n",
              "\n",
              "<div id=\"df-0c031b31-ed64-48d5-a388-9c9f216eb417\">\n",
              "  <button class=\"colab-df-quickchart\" onclick=\"quickchart('df-0c031b31-ed64-48d5-a388-9c9f216eb417')\"\n",
              "            title=\"Suggest charts.\"\n",
              "            style=\"display:none;\">\n",
              "\n",
              "<svg xmlns=\"http://www.w3.org/2000/svg\" height=\"24px\"viewBox=\"0 0 24 24\"\n",
              "     width=\"24px\">\n",
              "    <g>\n",
              "        <path d=\"M19 3H5c-1.1 0-2 .9-2 2v14c0 1.1.9 2 2 2h14c1.1 0 2-.9 2-2V5c0-1.1-.9-2-2-2zM9 17H7v-7h2v7zm4 0h-2V7h2v10zm4 0h-2v-4h2v4z\"/>\n",
              "    </g>\n",
              "</svg>\n",
              "  </button>\n",
              "\n",
              "<style>\n",
              "  .colab-df-quickchart {\n",
              "      --bg-color: #E8F0FE;\n",
              "      --fill-color: #1967D2;\n",
              "      --hover-bg-color: #E2EBFA;\n",
              "      --hover-fill-color: #174EA6;\n",
              "      --disabled-fill-color: #AAA;\n",
              "      --disabled-bg-color: #DDD;\n",
              "  }\n",
              "\n",
              "  [theme=dark] .colab-df-quickchart {\n",
              "      --bg-color: #3B4455;\n",
              "      --fill-color: #D2E3FC;\n",
              "      --hover-bg-color: #434B5C;\n",
              "      --hover-fill-color: #FFFFFF;\n",
              "      --disabled-bg-color: #3B4455;\n",
              "      --disabled-fill-color: #666;\n",
              "  }\n",
              "\n",
              "  .colab-df-quickchart {\n",
              "    background-color: var(--bg-color);\n",
              "    border: none;\n",
              "    border-radius: 50%;\n",
              "    cursor: pointer;\n",
              "    display: none;\n",
              "    fill: var(--fill-color);\n",
              "    height: 32px;\n",
              "    padding: 0;\n",
              "    width: 32px;\n",
              "  }\n",
              "\n",
              "  .colab-df-quickchart:hover {\n",
              "    background-color: var(--hover-bg-color);\n",
              "    box-shadow: 0 1px 2px rgba(60, 64, 67, 0.3), 0 1px 3px 1px rgba(60, 64, 67, 0.15);\n",
              "    fill: var(--button-hover-fill-color);\n",
              "  }\n",
              "\n",
              "  .colab-df-quickchart-complete:disabled,\n",
              "  .colab-df-quickchart-complete:disabled:hover {\n",
              "    background-color: var(--disabled-bg-color);\n",
              "    fill: var(--disabled-fill-color);\n",
              "    box-shadow: none;\n",
              "  }\n",
              "\n",
              "  .colab-df-spinner {\n",
              "    border: 2px solid var(--fill-color);\n",
              "    border-color: transparent;\n",
              "    border-bottom-color: var(--fill-color);\n",
              "    animation:\n",
              "      spin 1s steps(1) infinite;\n",
              "  }\n",
              "\n",
              "  @keyframes spin {\n",
              "    0% {\n",
              "      border-color: transparent;\n",
              "      border-bottom-color: var(--fill-color);\n",
              "      border-left-color: var(--fill-color);\n",
              "    }\n",
              "    20% {\n",
              "      border-color: transparent;\n",
              "      border-left-color: var(--fill-color);\n",
              "      border-top-color: var(--fill-color);\n",
              "    }\n",
              "    30% {\n",
              "      border-color: transparent;\n",
              "      border-left-color: var(--fill-color);\n",
              "      border-top-color: var(--fill-color);\n",
              "      border-right-color: var(--fill-color);\n",
              "    }\n",
              "    40% {\n",
              "      border-color: transparent;\n",
              "      border-right-color: var(--fill-color);\n",
              "      border-top-color: var(--fill-color);\n",
              "    }\n",
              "    60% {\n",
              "      border-color: transparent;\n",
              "      border-right-color: var(--fill-color);\n",
              "    }\n",
              "    80% {\n",
              "      border-color: transparent;\n",
              "      border-right-color: var(--fill-color);\n",
              "      border-bottom-color: var(--fill-color);\n",
              "    }\n",
              "    90% {\n",
              "      border-color: transparent;\n",
              "      border-bottom-color: var(--fill-color);\n",
              "    }\n",
              "  }\n",
              "</style>\n",
              "\n",
              "  <script>\n",
              "    async function quickchart(key) {\n",
              "      const quickchartButtonEl =\n",
              "        document.querySelector('#' + key + ' button');\n",
              "      quickchartButtonEl.disabled = true;  // To prevent multiple clicks.\n",
              "      quickchartButtonEl.classList.add('colab-df-spinner');\n",
              "      try {\n",
              "        const charts = await google.colab.kernel.invokeFunction(\n",
              "            'suggestCharts', [key], {});\n",
              "      } catch (error) {\n",
              "        console.error('Error during call to suggestCharts:', error);\n",
              "      }\n",
              "      quickchartButtonEl.classList.remove('colab-df-spinner');\n",
              "      quickchartButtonEl.classList.add('colab-df-quickchart-complete');\n",
              "    }\n",
              "    (() => {\n",
              "      let quickchartButtonEl =\n",
              "        document.querySelector('#df-0c031b31-ed64-48d5-a388-9c9f216eb417 button');\n",
              "      quickchartButtonEl.style.display =\n",
              "        google.colab.kernel.accessAllowed ? 'block' : 'none';\n",
              "    })();\n",
              "  </script>\n",
              "</div>\n",
              "    </div>\n",
              "  </div>\n"
            ]
          },
          "metadata": {},
          "execution_count": 13
        }
      ]
    },
    {
      "cell_type": "code",
      "source": [
        "chromosomes = person2.groupby('chr')\n",
        "list_1 = list(chromosomes.groups.keys())\n",
        "list_2 = person2.groupby('chr').size()\n",
        "Dictionary_1 = {list_1[i]: list_2[i] for i in range(len(list_1))}\n",
        "Dictionary_1"
      ],
      "metadata": {
        "colab": {
          "base_uri": "https://localhost:8080/"
        },
        "id": "lnTKf1QtbPhB",
        "outputId": "7496e0dd-2870-4879-de27-cefb1d1543f1"
      },
      "execution_count": 127,
      "outputs": [
        {
          "output_type": "execute_result",
          "data": {
            "text/plain": [
              "{'chr1': 341660,\n",
              " 'chr10': 222282,\n",
              " 'chr11': 221447,\n",
              " 'chr12': 209175,\n",
              " 'chr13': 171720,\n",
              " 'chr14': 138570,\n",
              " 'chr15': 126904,\n",
              " 'chr16': 132160,\n",
              " 'chr17': 120051,\n",
              " 'chr18': 129078,\n",
              " 'chr19': 101268,\n",
              " 'chr2': 358140,\n",
              " 'chr20': 97451,\n",
              " 'chr21': 65730,\n",
              " 'chr22': 62361,\n",
              " 'chr3': 296244,\n",
              " 'chr4': 319510,\n",
              " 'chr5': 272746,\n",
              " 'chr6': 283652,\n",
              " 'chr7': 250035,\n",
              " 'chr8': 229848,\n",
              " 'chr9': 189660,\n",
              " 'chrM': 20,\n",
              " 'chrX': 149722}"
            ]
          },
          "metadata": {},
          "execution_count": 127
        }
      ]
    },
    {
      "cell_type": "code",
      "source": [
        "#chr_length['length'][0]\n",
        "#chr_length['chr'][0]\n",
        "list_chr = list(chr_length['chr'])\n",
        "list_length = list(chr_length['length'])\n",
        "#res = {test_keys[i]: test_values[i] for i in range(len(test_keys))}\n",
        "Dictionary_2 = {list_chr[i]: list_length[i] for i in range(len(list_chr))}\n",
        "Dictionary_2\n",
        "#len(chr_length)\n",
        "#Length  = chr_length['length']\n",
        "#Length"
      ],
      "metadata": {
        "colab": {
          "base_uri": "https://localhost:8080/"
        },
        "id": "iHEu6VNlElqF",
        "outputId": "9d0f87dc-e08b-444b-cd77-6fa880decfe3"
      },
      "execution_count": 123,
      "outputs": [
        {
          "output_type": "execute_result",
          "data": {
            "text/plain": [
              "{'chr1': 248956422,\n",
              " 'chr2': 242193529,\n",
              " 'chr3': 198295559,\n",
              " 'chr4': 190214555,\n",
              " 'chr5': 181538259,\n",
              " 'chr6': 170805979,\n",
              " 'chr7': 159345973,\n",
              " 'chr8': 145138636,\n",
              " 'chr9': 138394717,\n",
              " 'chr10': 133797422,\n",
              " 'chr11': 135086622,\n",
              " 'chr12': 133275309,\n",
              " 'chr13': 114364328,\n",
              " 'chr14': 107043718,\n",
              " 'chr15': 101991189,\n",
              " 'chr16': 90338345,\n",
              " 'chr17': 83257441,\n",
              " 'chr18': 80373285,\n",
              " 'chr19': 58617616,\n",
              " 'chr20': 64444167,\n",
              " 'chr21': 46709983,\n",
              " 'chr22': 50818468,\n",
              " 'chrX': 156040895,\n",
              " 'chrY': 57227415}"
            ]
          },
          "metadata": {},
          "execution_count": 123
        }
      ]
    },
    {
      "cell_type": "code",
      "source": [
        "#A loop that takes confirms that it is working on the same chromosome and return the size/length for that chromosome\n",
        "count = 0\n",
        "dist = {}\n",
        "keys = set(Dictionary_1.keys()).union(set(Dictionary_2.keys()))\n",
        "differences = {}\n",
        "for key in keys:\n",
        "    if (key in Dictionary_1) and (key in Dictionary_2):\n",
        "      dist[key] = 100* Dictionary_1[key]/Dictionary_2[key]\n",
        "      count += 1\n",
        "    else:\n",
        "      count += 0\n",
        "\n",
        "print(dist)\n",
        "print(count)"
      ],
      "metadata": {
        "colab": {
          "base_uri": "https://localhost:8080/"
        },
        "id": "HWYjxoSOE0sL",
        "outputId": "cc6295fb-ea12-4ec7-9e38-96b362c19745"
      },
      "execution_count": 148,
      "outputs": [
        {
          "output_type": "stream",
          "name": "stdout",
          "text": [
            "{'chr2': 0.14787348013744828, 'chr3': 0.14939517631859825, 'chr12': 0.15694955169828192, 'chr20': 0.1512177199838738, 'chr5': 0.15024160829921807, 'chrX': 0.0959504878512777, 'chr19': 0.17276035245104476, 'chr9': 0.13704280344747552, 'chr11': 0.16392963027826693, 'chr10': 0.16613324582591735, 'chr17': 0.14419251727902616, 'chr13': 0.15015171513970685, 'chr15': 0.12442643452269196, 'chr8': 0.15836444818180598, 'chr1': 0.13723686951124323, 'chr6': 0.16606678622181018, 'chr21': 0.14071938326331654, 'chr7': 0.15691328452963163, 'chr18': 0.16059813904582848, 'chr22': 0.12271326243050067, 'chr16': 0.14629446665200696, 'chr4': 0.16797347605707671, 'chr14': 0.1294517815608759}\n",
            "23\n"
          ]
        }
      ]
    },
    {
      "cell_type": "code",
      "source": [
        "import matplotlib.pyplot as plt\n",
        "from collections import Counter\n",
        "import random\n",
        "\n",
        "#Create a bar plot\n",
        "plt.bar(dist.keys(), dist.values())\n",
        "plt.title('Variant distribution')\n",
        "plt.xlabel('chromosome')\n",
        "plt.ylabel('Distribution')\n",
        "plt.show()"
      ],
      "metadata": {
        "colab": {
          "base_uri": "https://localhost:8080/",
          "height": 472
        },
        "id": "13DC06z-jkfI",
        "outputId": "3c05ec61-e862-420e-c881-a04a0cdad273"
      },
      "execution_count": 151,
      "outputs": [
        {
          "output_type": "display_data",
          "data": {
            "text/plain": [
              "<Figure size 640x480 with 1 Axes>"
            ],
            "image/png": "[encoded data removed]"
          },
          "metadata": {}
        }
      ]
    },
    {
      "cell_type": "code",
      "source": [
        "plt.bar(Dictionary_1.keys(), Dictionary_1.values())\n",
        "plt.title('Number of variants vs chromosome')\n",
        "plt.xlabel('Chromosome')\n",
        "plt.ylabel('Number of variants')\n",
        "plt.show()\n",
        "\n",
        "plt.bar(Dictionary_2.keys(), Dictionary_2.values())\n",
        "plt.title('Chromosome vs length')\n",
        "plt.xlabel('Chromosome')\n",
        "plt.ylabel('length')\n",
        "plt.show()"
      ],
      "metadata": {
        "colab": {
          "base_uri": "https://localhost:8080/",
          "height": 927
        },
        "id": "tXNnB5VWkgfh",
        "outputId": "923b01c8-2a09-4186-d90d-62516547d0e9"
      },
      "execution_count": 161,
      "outputs": [
        {
          "output_type": "display_data",
          "data": {
            "text/plain": [
              "<Figure size 640x480 with 1 Axes>"
            ],
            "image/png": "[encoded data removed]"
          },
          "metadata": {}
        },
        {
          "output_type": "display_data",
          "data": {
            "text/plain": [
              "<Figure size 640x480 with 1 Axes>"
            ],
            "image/png": "[encoded data removed]"
          },
          "metadata": {}
        }
      ]
    },
    {
      "cell_type": "code",
      "source": [
        "plt.bar(Dictionary_2.keys(), Dictionary_2.values())"
      ],
      "metadata": {
        "colab": {
          "base_uri": "https://localhost:8080/",
          "height": 463
        },
        "id": "9yP-n25HmK_f",
        "outputId": "2dca5407-2c81-4809-96e5-4682598973f5"
      },
      "execution_count": 159,
      "outputs": [
        {
          "output_type": "execute_result",
          "data": {
            "text/plain": [
              "<BarContainer object of 24 artists>"
            ]
          },
          "metadata": {},
          "execution_count": 159
        },
        {
          "output_type": "display_data",
          "data": {
            "text/plain": [
              "<Figure size 640x480 with 1 Axes>"
            ],
            "image/png": "[encoded data removed]"
          },
          "metadata": {}
        }
      ]
    },
    {
      "cell_type": "code",
      "source": [
        "Dictionary_1.get['chr1']"
      ],
      "metadata": {
        "colab": {
          "base_uri": "https://localhost:8080/",
          "height": 179
        },
        "id": "A6FcUSnfhoje",
        "outputId": "a320330a-b6ed-4138-9c68-4e163e7a7b78"
      },
      "execution_count": 145,
      "outputs": [
        {
          "output_type": "error",
          "ename": "TypeError",
          "evalue": "ignored",
          "traceback": [
            "\u001b[0;31m---------------------------------------------------------------------------\u001b[0m",
            "\u001b[0;31mTypeError\u001b[0m                                 Traceback (most recent call last)",
            "\u001b[0;32m<ipython-input-145-d90b6baf68e3>\u001b[0m in \u001b[0;36m<cell line: 1>\u001b[0;34m()\u001b[0m\n\u001b[0;32m----> 1\u001b[0;31m \u001b[0mDictionary_1\u001b[0m\u001b[0;34m.\u001b[0m\u001b[0mget\u001b[0m\u001b[0;34m[\u001b[0m\u001b[0;34m'chr1'\u001b[0m\u001b[0;34m]\u001b[0m\u001b[0;34m\u001b[0m\u001b[0;34m\u001b[0m\u001b[0m\n\u001b[0m",
            "\u001b[0;31mTypeError\u001b[0m: 'builtin_function_or_method' object is not subscriptable"
          ]
        }
      ]
    },
    {
      "cell_type": "code",
      "source": [
        "for i in range(len(list_2)):\n",
        "    if Dictionary_1.get(key) == Dictionary_2.get(key):\n",
        "      Variant_distribution = 100* Dictionary_1[key]/Dictionary_2[key]\n",
        "      #X = chr_length['chr']\n",
        "      dist[key] += 1\n",
        "      counts += 1\n",
        "    else:\n",
        "      counts += 1\n",
        "\n",
        "print(dist)\n",
        "print(counts)"
      ],
      "metadata": {
        "id": "Ng4uD0P6gE96"
      },
      "execution_count": null,
      "outputs": []
    }
  ]
}