{
  "nbformat": 4,
  "nbformat_minor": 0,
  "metadata": {
    "colab": {
      "provenance": [],
      "authorship_tag": "ABX9TyOejRYE0k0ptpn3B4cmMJY7",
      "include_colab_link": true
    },
    "kernelspec": {
      "name": "python3",
      "display_name": "Python 3"
    },
    "language_info": {
      "name": "python"
    }
  },
  "cells": [
    {
      "cell_type": "markdown",
      "metadata": {
        "id": "view-in-github",
        "colab_type": "text"
      },
      "source": [
        "<a href=\"https://colab.research.google.com/github/AhmedAboushanab/Free-Work/blob/main/Dividing_the_strings_into_individual_strings.ipynb\" target=\"_parent\"><img src=\"https://colab.research.google.com/assets/colab-badge.svg\" alt=\"Open In Colab\"/></a>"
      ]
    },
    {
      "cell_type": "code",
      "execution_count": null,
      "metadata": {
        "id": "q7FOucB1PdCh"
      },
      "outputs": [],
      "source": [
        "list1 = ''\n",
        "print( list.split())"
      ]
    },
    {
      "cell_type": "code",
      "source": [
        "list1[1]"
      ],
      "metadata": {
        "id": "vfMsLXttU9l1"
      },
      "execution_count": null,
      "outputs": []
    },
    {
      "cell_type": "code",
      "source": [
        "len(list1)"
      ],
      "metadata": {
        "id": "8zyM66pyW6ad"
      },
      "execution_count": null,
      "outputs": []
    },
    {
      "cell_type": "code",
      "source": [
        "list2 =[]"
      ],
      "metadata": {
        "id": "pQ0wARPDVhAm"
      },
      "execution_count": null,
      "outputs": []
    },
    {
      "cell_type": "code",
      "source": [
        "for j in range(227):\n",
        "  list2.append(list1[j])\n"
      ],
      "metadata": {
        "id": "vS4tUrXFQpqQ"
      },
      "execution_count": null,
      "outputs": []
    },
    {
      "cell_type": "code",
      "source": [
        "print(list2)"
      ],
      "metadata": {
        "id": "Z0PJawe2QdMI"
      },
      "execution_count": null,
      "outputs": []
    },
    {
      "cell_type": "code",
      "source": [
        "import numpy as np\n",
        "np.savetxt(\"Seq.csv\",\n",
        "        list2,\n",
        "        delimiter =\", \",\n",
        "        fmt ='% s')"
      ],
      "metadata": {
        "id": "tyVNKWkxXucP"
      },
      "execution_count": null,
      "outputs": []
    }
  ]
}