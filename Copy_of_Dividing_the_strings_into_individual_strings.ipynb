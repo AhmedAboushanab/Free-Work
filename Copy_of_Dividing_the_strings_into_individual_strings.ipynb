{
  "nbformat": 4,
  "nbformat_minor": 0,
  "metadata": {
    "colab": {
      "provenance": [],
      "authorship_tag": "ABX9TyNFz+HmlvzwhnCiWeL81haO",
      "include_colab_link": true
    },
    "kernelspec": {
      "name": "python3",
      "display_name": "Python 3"
    },
    "language_info": {
      "name": "python"
    }
  },
  "cells": [
    {
      "cell_type": "markdown",
      "metadata": {
        "id": "view-in-github",
        "colab_type": "text"
      },
      "source": [
        "<a href=\"https://colab.research.google.com/github/AhmedAboushanab/Free-Work/blob/main/Copy_of_Dividing_the_strings_into_individual_strings.ipynb\" target=\"_parent\"><img src=\"https://colab.research.google.com/assets/colab-badge.svg\" alt=\"Open In Colab\"/></a>"
      ]
    },
    {
      "cell_type": "markdown",
      "source": [
        "**For Heavy chain**"
      ],
      "metadata": {
        "id": "9b5tq46Hd9lM"
      }
    },
    {
      "cell_type": "code",
      "execution_count": 396,
      "metadata": {
        "id": "q7FOucB1PdCh"
      },
      "outputs": [],
      "source": [
        "list1 = 'DKTHTCPPCPAPELLGGPSVFLFPPKPKDTLMISRTPEVTCVVVDVSHEDPEVKFNWYVDGVEVHNAKTKPREEQYNSTYRVVSVLPILHQDWLNGKEYKCKVSNKALPAPIEKTISKAKGQPREPQVYTLPPSRDELTKNQVSLTCLVKGFYPSDIAVEWESNGQPENNYKTTPPVLDSDGSFFLYSKLTVDKSRWQQGNVFSCSVMHEALHNHYTQKSLSLSPGK'"
      ]
    },
    {
      "cell_type": "code",
      "source": [
        "list1[1]"
      ],
      "metadata": {
        "id": "vfMsLXttU9l1",
        "colab": {
          "base_uri": "https://localhost:8080/",
          "height": 35
        },
        "outputId": "1d833f3b-c4b6-42a1-fcd6-8f4b3d7ed8cd"
      },
      "execution_count": 397,
      "outputs": [
        {
          "output_type": "execute_result",
          "data": {
            "text/plain": [
              "'K'"
            ],
            "application/vnd.google.colaboratory.intrinsic+json": {
              "type": "string"
            }
          },
          "metadata": {},
          "execution_count": 397
        }
      ]
    },
    {
      "cell_type": "code",
      "source": [
        "len(list1)"
      ],
      "metadata": {
        "id": "8zyM66pyW6ad",
        "colab": {
          "base_uri": "https://localhost:8080/"
        },
        "outputId": "58fa6314-7aab-484c-e22d-49d38d00a85d"
      },
      "execution_count": 398,
      "outputs": [
        {
          "output_type": "execute_result",
          "data": {
            "text/plain": [
              "227"
            ]
          },
          "metadata": {},
          "execution_count": 398
        }
      ]
    },
    {
      "cell_type": "code",
      "source": [
        "list2 =[]"
      ],
      "metadata": {
        "id": "pQ0wARPDVhAm"
      },
      "execution_count": 399,
      "outputs": []
    },
    {
      "cell_type": "code",
      "source": [
        "for j in range(len(list1)):\n",
        "  list2.append(list1[j])\n"
      ],
      "metadata": {
        "id": "vS4tUrXFQpqQ"
      },
      "execution_count": 400,
      "outputs": []
    },
    {
      "cell_type": "code",
      "source": [
        "print(list2)"
      ],
      "metadata": {
        "id": "Z0PJawe2QdMI",
        "colab": {
          "base_uri": "https://localhost:8080/"
        },
        "outputId": "4c811afe-fdea-4878-e440-f6ae5ed94ee3"
      },
      "execution_count": 401,
      "outputs": [
        {
          "output_type": "stream",
          "name": "stdout",
          "text": [
            "['D', 'K', 'T', 'H', 'T', 'C', 'P', 'P', 'C', 'P', 'A', 'P', 'E', 'L', 'L', 'G', 'G', 'P', 'S', 'V', 'F', 'L', 'F', 'P', 'P', 'K', 'P', 'K', 'D', 'T', 'L', 'M', 'I', 'S', 'R', 'T', 'P', 'E', 'V', 'T', 'C', 'V', 'V', 'V', 'D', 'V', 'S', 'H', 'E', 'D', 'P', 'E', 'V', 'K', 'F', 'N', 'W', 'Y', 'V', 'D', 'G', 'V', 'E', 'V', 'H', 'N', 'A', 'K', 'T', 'K', 'P', 'R', 'E', 'E', 'Q', 'Y', 'N', 'S', 'T', 'Y', 'R', 'V', 'V', 'S', 'V', 'L', 'P', 'I', 'L', 'H', 'Q', 'D', 'W', 'L', 'N', 'G', 'K', 'E', 'Y', 'K', 'C', 'K', 'V', 'S', 'N', 'K', 'A', 'L', 'P', 'A', 'P', 'I', 'E', 'K', 'T', 'I', 'S', 'K', 'A', 'K', 'G', 'Q', 'P', 'R', 'E', 'P', 'Q', 'V', 'Y', 'T', 'L', 'P', 'P', 'S', 'R', 'D', 'E', 'L', 'T', 'K', 'N', 'Q', 'V', 'S', 'L', 'T', 'C', 'L', 'V', 'K', 'G', 'F', 'Y', 'P', 'S', 'D', 'I', 'A', 'V', 'E', 'W', 'E', 'S', 'N', 'G', 'Q', 'P', 'E', 'N', 'N', 'Y', 'K', 'T', 'T', 'P', 'P', 'V', 'L', 'D', 'S', 'D', 'G', 'S', 'F', 'F', 'L', 'Y', 'S', 'K', 'L', 'T', 'V', 'D', 'K', 'S', 'R', 'W', 'Q', 'Q', 'G', 'N', 'V', 'F', 'S', 'C', 'S', 'V', 'M', 'H', 'E', 'A', 'L', 'H', 'N', 'H', 'Y', 'T', 'Q', 'K', 'S', 'L', 'S', 'L', 'S', 'P', 'G', 'K']\n"
          ]
        }
      ]
    },
    {
      "cell_type": "code",
      "source": [
        "import numpy as np\n",
        "np.savetxt(\"Heavy-seq.csv\",\n",
        "        list2,\n",
        "        delimiter =\", \",\n",
        "        fmt ='% s')"
      ],
      "metadata": {
        "id": "tyVNKWkxXucP"
      },
      "execution_count": 402,
      "outputs": []
    },
    {
      "cell_type": "markdown",
      "source": [
        "**For light Chain**"
      ],
      "metadata": {
        "id": "aY-15zyweEP9"
      }
    },
    {
      "cell_type": "code",
      "source": [
        "list3 = ''"
      ],
      "metadata": {
        "id": "YAe4Yat8eTJ9"
      },
      "execution_count": null,
      "outputs": []
    },
    {
      "cell_type": "code",
      "source": [
        "len(list3)"
      ],
      "metadata": {
        "id": "WaDJxWB6eWHk"
      },
      "execution_count": null,
      "outputs": []
    },
    {
      "cell_type": "code",
      "source": [
        "list4 = []"
      ],
      "metadata": {
        "id": "z2wf-BePeXpG"
      },
      "execution_count": null,
      "outputs": []
    },
    {
      "cell_type": "code",
      "source": [
        "for i in range(len(list3)):\n",
        "  list4.append(list3[i])"
      ],
      "metadata": {
        "id": "IfF1KwFreEs3"
      },
      "execution_count": null,
      "outputs": []
    },
    {
      "cell_type": "code",
      "source": [
        "import numpy as np\n",
        "np.savetxt(\"light-seq.csv\",\n",
        "        list4,\n",
        "        delimiter =\", \",\n",
        "        fmt ='% s')"
      ],
      "metadata": {
        "id": "2dramg2leNlW"
      },
      "execution_count": null,
      "outputs": []
    }
  ]
}